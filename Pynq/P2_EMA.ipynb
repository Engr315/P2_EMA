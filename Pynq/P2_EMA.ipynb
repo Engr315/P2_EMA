{
 "cells": [
  {
   "cell_type": "markdown",
   "metadata": {},
   "source": [
    "## Project 2 - Exponential Moving Average with C"
   ]
  },
  {
   "cell_type": "code",
   "execution_count": null,
   "metadata": {},
   "outputs": [],
   "source": [
    "%matplotlib inline\n",
    "\n",
    "import IPython\n",
    "import matplotlib.pyplot as plt\n",
    "import numpy as np\n",
    "import math"
   ]
  },
  {
   "cell_type": "code",
   "execution_count": null,
   "metadata": {},
   "outputs": [],
   "source": [
    "time = 2.0 # plot 1 second of sample points\n",
    "sample_rate =  10000# 10K samples/second\n",
    "low_freq    = 100 # frequency in Hz\n",
    "high_freq   = 4500 #frequency in Hz"
   ]
  },
  {
   "cell_type": "markdown",
   "metadata": {},
   "source": [
    "## Here is a simple cosine wave"
   ]
  },
  {
   "cell_type": "code",
   "execution_count": null,
   "metadata": {},
   "outputs": [],
   "source": [
    "x = np.linspace(0,time, int(time*sample_rate))\n",
    "y1 = np.sin(2*np.pi*low_freq*x)\n",
    "y1 = [int(x) for x in y1 *1000 + 1000]\n",
    "plt.figure()\n",
    "plt.plot(x,y1)\n",
    "plt.xlabel('Time (Sec)')\n",
    "plt.ylabel('Amplitude')\n",
    "plt.xlim( (0,0.1))\n",
    "plt.show()\n",
    "\n",
    "IPython.display.Audio(y1, rate=sample_rate)"
   ]
  },
  {
   "cell_type": "markdown",
   "metadata": {},
   "source": [
    "## And another, higher-frequency, wave"
   ]
  },
  {
   "cell_type": "code",
   "execution_count": null,
   "metadata": {},
   "outputs": [],
   "source": [
    "y2 = np.sin(2*np.pi*high_freq*x)\n",
    "y2 = [int(x) for x in y2 *1000 + 1000]\n",
    "\n",
    "plt.figure()\n",
    "plt.plot(x,y2)\n",
    "plt.xlabel('Time (Sec)')\n",
    "plt.ylabel('Amplitude')\n",
    "plt.xlim((0,0.01))\n",
    "plt.show()\n",
    "\n",
    "IPython.display.Audio(y2, rate=sample_rate)"
   ]
  },
  {
   "cell_type": "markdown",
   "metadata": {},
   "source": [
    "## Here they are combined together"
   ]
  },
  {
   "cell_type": "code",
   "execution_count": null,
   "metadata": {},
   "outputs": [],
   "source": [
    "y_sum = [sum(x) for x in zip(y1, y2)]\n",
    "plt.figure()\n",
    "plt.plot(x,y_sum)\n",
    "plt.xlabel('Time (Sec)')\n",
    "plt.ylabel('Amplitude')\n",
    "plt.xlim((0,0.1))\n",
    "plt.show()\n",
    "\n",
    "IPython.display.Audio(y_sum, rate=sample_rate)"
   ]
  },
  {
   "cell_type": "markdown",
   "metadata": {},
   "source": [
    "## Here is the \"true\" Expoential Moving Average filter"
   ]
  },
  {
   "cell_type": "code",
   "execution_count": null,
   "metadata": {},
   "outputs": [],
   "source": [
    "y=1000\n",
    "def ema(x):\n",
    "    global y\n",
    "    alpha = 0.05\n",
    "    y = x * alpha + y * (1.0 - alpha)\n",
    "    return y"
   ]
  },
  {
   "cell_type": "code",
   "execution_count": null,
   "metadata": {},
   "outputs": [],
   "source": [
    "y_ema = [ema(y) for y in y_sum]\n",
    "\n",
    "plt.figure()\n",
    "plt.plot(x,y_sum)\n",
    "plt.plot(x,y_ema)\n",
    "plt.xlim((0,0.1))\n",
    "plt.show()\n",
    "\n",
    "IPython.display.Audio(y_ema, rate=sample_rate)"
   ]
  },
  {
   "cell_type": "markdown",
   "metadata": {},
   "source": [
    "## Here is the \"simplified\" EMA filter\n",
    "\n",
    "It does not work as well (but it's alot easier to make in hardware)"
   ]
  },
  {
   "cell_type": "code",
   "execution_count": null,
   "metadata": {},
   "outputs": [],
   "source": [
    "#\n",
    "# EMA with alpha=0.25 allows for simpler math\n",
    "#\n",
    "class Simple_EMA:\n",
    "    def ema_all(self,buf):\n",
    "        self.y=int(1000)\n",
    "        return [self.ema_1(x) for x in buf]\n",
    "    \n",
    "    def ema_1(self,x):\n",
    "        # y = x * 0.25 +  y * 0.75\n",
    "        # y = x * 0.25 + (y * 0.25 + y * 0.50)\n",
    "        # y = x / 4    + (y / 4    + y / 2   )\n",
    "        x = int(x) # x needs to be an integer\n",
    "        self.y = int(x/4) + int(self.y/4) + int(self.y/2)\n",
    "        return self.y \n",
    "    \n"
   ]
  },
  {
   "cell_type": "markdown",
   "metadata": {},
   "source": [
    "## As you can see (and hear) below, the Simple EMA is less effective at filtering out the high-frequency sounds"
   ]
  },
  {
   "cell_type": "code",
   "execution_count": null,
   "metadata": {},
   "outputs": [],
   "source": [
    "simple_ema = Simple_EMA()\n",
    "sema = simple_ema.ema_all(y_sum)\n",
    "\n",
    "plt.figure()\n",
    "plt.plot(x,y_sum)\n",
    "plt.plot(x,sema)\n",
    "plt.xlim((0,0.05))\n",
    "plt.show()\n",
    "\n",
    "IPython.display.Audio(y_ema, rate=sample_rate)"
   ]
  },
  {
   "cell_type": "markdown",
   "metadata": {},
   "source": [
    "## But we can get something almost as good as \"true\" EMA by repeating \"simple\" EMA three times"
   ]
  },
  {
   "cell_type": "code",
   "execution_count": null,
   "metadata": {},
   "outputs": [],
   "source": [
    "simple_ema = Simple_EMA()\n",
    "\n",
    "sema = simple_ema.ema_all(y_sum)\n",
    "sema2 = simple_ema.ema_all(sema)\n",
    "sema3 = simple_ema.ema_all(sema2)\n",
    "\n",
    "\n",
    "plt.figure()\n",
    "plt.plot(x,y_sum)\n",
    "plt.plot(x,sema3)\n",
    "plt.xlim((0,0.05))\n",
    "plt.show()\n",
    "\n",
    "IPython.display.Audio(sema3, rate=sample_rate)\n"
   ]
  },
  {
   "cell_type": "markdown",
   "metadata": {},
   "source": [
    "## Here's the first few points of the data as numbers\n",
    "\n",
    "This is used as a refernce to compare different implications.  It should match the values in the test.c and test.py implimentations\n"
   ]
  },
  {
   "cell_type": "code",
   "execution_count": null,
   "metadata": {},
   "outputs": [],
   "source": [
    "print (\"Input: \", y_sum[:10])\n",
    "print (\"Simple Output:\", sema[:10])\n",
    "print (\"Triple Output:\", sema3[:10])"
   ]
  },
  {
   "cell_type": "markdown",
   "metadata": {},
   "source": [
    "## Now complete the cEMA implimentation\n",
    "\n",
    "Do that before proceeding, otherwise subsequent steps will fail."
   ]
  },
  {
   "cell_type": "code",
   "execution_count": null,
   "metadata": {},
   "outputs": [],
   "source": [
    "import cEMA\n",
    "print (\"cEMA is installed at:\", cEMA.__file__)"
   ]
  },
  {
   "cell_type": "code",
   "execution_count": null,
   "metadata": {},
   "outputs": [],
   "source": [
    "cema = cEMA.ema_all(y_sum)\n",
    "cema2 = cEMA.ema_all(cema)\n",
    "cema3 = cEMA.ema_all(cema2)\n",
    "\n",
    "#double check they match\n",
    "assert(cema == y_ema)\n",
    "assert(cema3 == y_ema3)"
   ]
  },
  {
   "cell_type": "markdown",
   "metadata": {},
   "source": [
    "## Now we can check on runtimes"
   ]
  },
  {
   "cell_type": "code",
   "execution_count": null,
   "metadata": {},
   "outputs": [],
   "source": [
    "import time\n",
    "import cEMA\n",
    "simple_ema = Simple_EMA()"
   ]
  },
  {
   "cell_type": "code",
   "execution_count": null,
   "metadata": {},
   "outputs": [],
   "source": [
    "stime = time.time()\n",
    "a = simple_ema.ema_all(y_sum)\n",
    "b = simple_ema.ema_all(a)\n",
    "c = simple_ema.ema_all(b)\n",
    "etime = time.time()\n",
    "print(\"%f seconds\" % (etime - stime))\n",
    "py_time = etime - stime"
   ]
  },
  {
   "cell_type": "code",
   "execution_count": null,
   "metadata": {},
   "outputs": [],
   "source": [
    "stime = time.time()\n",
    "d = cEMA.ema_all(y_sum)\n",
    "e = cEMA.ema_all(d)\n",
    "f = cEMA.ema_all(e)\n",
    "etime = time.time()\n",
    "print(\"%f seconds\" % (etime - stime))\n",
    "c_time = etime - stime"
   ]
  },
  {
   "cell_type": "code",
   "execution_count": null,
   "metadata": {},
   "outputs": [],
   "source": [
    "print (\"C is \", (py_time - c_time)/c_time, \"X faster than Python\")"
   ]
  },
  {
   "cell_type": "markdown",
   "metadata": {},
   "source": [
    "# For reference, the instructor's C implimentation is typically 8-20X faster than Python"
   ]
  },
  {
   "cell_type": "code",
   "execution_count": null,
   "metadata": {},
   "outputs": [],
   "source": []
  }
 ],
 "metadata": {
  "kernelspec": {
   "display_name": "Python 3 (ipykernel)",
   "language": "python",
   "name": "python3"
  },
  "language_info": {
   "codemirror_mode": {
    "name": "ipython",
    "version": 3
   },
   "file_extension": ".py",
   "mimetype": "text/x-python",
   "name": "python",
   "nbconvert_exporter": "python",
   "pygments_lexer": "ipython3",
   "version": "3.9.13"
  }
 },
 "nbformat": 4,
 "nbformat_minor": 4
}
